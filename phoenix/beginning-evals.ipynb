{
 "cells": [
  {
   "cell_type": "code",
   "execution_count": 5,
   "id": "initial_id",
   "metadata": {
    "ExecuteTime": {
     "end_time": "2024-01-25T08:28:49.952931516Z",
     "start_time": "2024-01-25T08:27:48.319898472Z"
    },
    "collapsed": true,
    "jupyter": {
     "outputs_hidden": true
    }
   },
   "outputs": [
    {
     "name": "stdout",
     "output_type": "stream",
     "text": [
      "Requirement already satisfied: langchain in /home/ultimate/anaconda3/envs/genai310/lib/python3.10/site-packages (0.1.3)\r\n",
      "Requirement already satisfied: arize-phoenix in /home/ultimate/anaconda3/envs/genai310/lib/python3.10/site-packages (2.7.0)\r\n",
      "Collecting unstructured\r\n",
      "  Downloading unstructured-0.12.2-py3-none-any.whl.metadata (26 kB)\r\n",
      "Collecting transformers\r\n",
      "  Downloading transformers-4.37.1-py3-none-any.whl.metadata (129 kB)\r\n",
      "\u001b[2K     \u001b[38;2;114;156;31m━━━━━━━━━━━━━━━━━━━━━━━━━━━━━━━━━━━━━\u001b[0m \u001b[32m129.4/129.4 kB\u001b[0m \u001b[31m143.4 kB/s\u001b[0m eta \u001b[36m0:00:00\u001b[0m kB/s\u001b[0m eta \u001b[36m0:00:01\u001b[0m\r\n",
      "\u001b[?25hCollecting openai\r\n",
      "  Using cached openai-1.9.0-py3-none-any.whl.metadata (18 kB)\r\n",
      "Requirement already satisfied: PyYAML>=5.3 in /home/ultimate/anaconda3/envs/genai310/lib/python3.10/site-packages (from langchain) (6.0.1)\r\n",
      "Requirement already satisfied: SQLAlchemy<3,>=1.4 in /home/ultimate/anaconda3/envs/genai310/lib/python3.10/site-packages (from langchain) (2.0.25)\r\n",
      "Requirement already satisfied: aiohttp<4.0.0,>=3.8.3 in /home/ultimate/anaconda3/envs/genai310/lib/python3.10/site-packages (from langchain) (3.9.1)\r\n",
      "Requirement already satisfied: async-timeout<5.0.0,>=4.0.0 in /home/ultimate/anaconda3/envs/genai310/lib/python3.10/site-packages (from langchain) (4.0.3)\r\n",
      "Requirement already satisfied: dataclasses-json<0.7,>=0.5.7 in /home/ultimate/anaconda3/envs/genai310/lib/python3.10/site-packages (from langchain) (0.6.3)\r\n",
      "Requirement already satisfied: jsonpatch<2.0,>=1.33 in /home/ultimate/anaconda3/envs/genai310/lib/python3.10/site-packages (from langchain) (1.33)\r\n",
      "Requirement already satisfied: langchain-community<0.1,>=0.0.14 in /home/ultimate/anaconda3/envs/genai310/lib/python3.10/site-packages (from langchain) (0.0.15)\r\n",
      "Requirement already satisfied: langchain-core<0.2,>=0.1.14 in /home/ultimate/anaconda3/envs/genai310/lib/python3.10/site-packages (from langchain) (0.1.15)\r\n",
      "Requirement already satisfied: langsmith<0.1,>=0.0.83 in /home/ultimate/anaconda3/envs/genai310/lib/python3.10/site-packages (from langchain) (0.0.83)\r\n",
      "Requirement already satisfied: numpy<2,>=1 in /home/ultimate/anaconda3/envs/genai310/lib/python3.10/site-packages (from langchain) (1.26.3)\r\n",
      "Requirement already satisfied: pydantic<3,>=1 in /home/ultimate/anaconda3/envs/genai310/lib/python3.10/site-packages (from langchain) (2.5.3)\r\n",
      "Requirement already satisfied: requests<3,>=2 in /home/ultimate/anaconda3/envs/genai310/lib/python3.10/site-packages (from langchain) (2.31.0)\r\n",
      "Requirement already satisfied: tenacity<9.0.0,>=8.1.0 in /home/ultimate/anaconda3/envs/genai310/lib/python3.10/site-packages (from langchain) (8.2.3)\r\n",
      "Requirement already satisfied: ddsketch in /home/ultimate/anaconda3/envs/genai310/lib/python3.10/site-packages (from arize-phoenix) (2.0.4)\r\n",
      "Requirement already satisfied: hdbscan<1.0.0,>=0.8.33 in /home/ultimate/anaconda3/envs/genai310/lib/python3.10/site-packages (from arize-phoenix) (0.8.33)\r\n",
      "Requirement already satisfied: jinja2 in /home/ultimate/anaconda3/envs/genai310/lib/python3.10/site-packages (from arize-phoenix) (3.1.3)\r\n",
      "Requirement already satisfied: opentelemetry-proto in /home/ultimate/anaconda3/envs/genai310/lib/python3.10/site-packages (from arize-phoenix) (1.22.0)\r\n",
      "Requirement already satisfied: opentelemetry-sdk in /home/ultimate/anaconda3/envs/genai310/lib/python3.10/site-packages (from arize-phoenix) (1.22.0)\r\n",
      "Requirement already satisfied: pandas in /home/ultimate/anaconda3/envs/genai310/lib/python3.10/site-packages (from arize-phoenix) (2.2.0)\r\n",
      "Requirement already satisfied: protobuf<5.0,>=3.20 in /home/ultimate/anaconda3/envs/genai310/lib/python3.10/site-packages (from arize-phoenix) (4.25.2)\r\n",
      "Requirement already satisfied: psutil in /home/ultimate/anaconda3/envs/genai310/lib/python3.10/site-packages (from arize-phoenix) (5.9.8)\r\n",
      "Requirement already satisfied: pyarrow in /home/ultimate/anaconda3/envs/genai310/lib/python3.10/site-packages (from arize-phoenix) (15.0.0)\r\n",
      "Requirement already satisfied: scikit-learn<1.3.0 in /home/ultimate/anaconda3/envs/genai310/lib/python3.10/site-packages (from arize-phoenix) (1.2.2)\r\n",
      "Requirement already satisfied: scipy in /home/ultimate/anaconda3/envs/genai310/lib/python3.10/site-packages (from arize-phoenix) (1.12.0)\r\n",
      "Requirement already satisfied: sortedcontainers in /home/ultimate/anaconda3/envs/genai310/lib/python3.10/site-packages (from arize-phoenix) (2.4.0)\r\n",
      "Requirement already satisfied: starlette in /home/ultimate/anaconda3/envs/genai310/lib/python3.10/site-packages (from arize-phoenix) (0.36.1)\r\n",
      "Requirement already satisfied: strawberry-graphql==0.208.2 in /home/ultimate/anaconda3/envs/genai310/lib/python3.10/site-packages (from arize-phoenix) (0.208.2)\r\n",
      "Requirement already satisfied: tqdm in /home/ultimate/anaconda3/envs/genai310/lib/python3.10/site-packages (from arize-phoenix) (4.66.1)\r\n",
      "Requirement already satisfied: typing-extensions<5,>=4.5 in /home/ultimate/anaconda3/envs/genai310/lib/python3.10/site-packages (from arize-phoenix) (4.9.0)\r\n",
      "Requirement already satisfied: umap-learn in /home/ultimate/anaconda3/envs/genai310/lib/python3.10/site-packages (from arize-phoenix) (0.5.5)\r\n",
      "Requirement already satisfied: uvicorn in /home/ultimate/anaconda3/envs/genai310/lib/python3.10/site-packages (from arize-phoenix) (0.27.0)\r\n",
      "Requirement already satisfied: wrapt in /home/ultimate/anaconda3/envs/genai310/lib/python3.10/site-packages (from arize-phoenix) (1.16.0)\r\n",
      "Requirement already satisfied: graphql-core<3.3.0,>=3.2.0 in /home/ultimate/anaconda3/envs/genai310/lib/python3.10/site-packages (from strawberry-graphql==0.208.2->arize-phoenix) (3.2.3)\r\n",
      "Requirement already satisfied: python-dateutil<3.0.0,>=2.7.0 in /home/ultimate/anaconda3/envs/genai310/lib/python3.10/site-packages (from strawberry-graphql==0.208.2->arize-phoenix) (2.8.2)\r\n",
      "Collecting chardet (from unstructured)\r\n",
      "  Downloading chardet-5.2.0-py3-none-any.whl.metadata (3.4 kB)\r\n",
      "Collecting filetype (from unstructured)\r\n",
      "  Downloading filetype-1.2.0-py2.py3-none-any.whl (19 kB)\r\n",
      "Collecting python-magic (from unstructured)\r\n",
      "  Downloading python_magic-0.4.27-py2.py3-none-any.whl (13 kB)\r\n",
      "Collecting lxml (from unstructured)\r\n",
      "  Downloading lxml-5.1.0-cp310-cp310-manylinux_2_17_x86_64.manylinux2014_x86_64.whl.metadata (3.5 kB)\r\n",
      "Collecting nltk (from unstructured)\r\n",
      "  Downloading nltk-3.8.1-py3-none-any.whl (1.5 MB)\r\n",
      "\u001b[2K     \u001b[38;2;114;156;31m━━━━━━━━━━━━━━━━━━━━━━━━━━━━━━━━━━━━━━━━\u001b[0m \u001b[32m1.5/1.5 MB\u001b[0m \u001b[31m492.2 kB/s\u001b[0m eta \u001b[36m0:00:00\u001b[0mm eta \u001b[36m0:00:01\u001b[0m[36m0:00:01\u001b[0m\r\n",
      "\u001b[?25hCollecting tabulate (from unstructured)\r\n",
      "  Downloading tabulate-0.9.0-py3-none-any.whl (35 kB)\r\n",
      "Requirement already satisfied: beautifulsoup4 in /home/ultimate/anaconda3/envs/genai310/lib/python3.10/site-packages (from unstructured) (4.12.3)\r\n",
      "Collecting emoji (from unstructured)\r\n",
      "  Downloading emoji-2.10.0-py2.py3-none-any.whl.metadata (5.3 kB)\r\n",
      "Collecting python-iso639 (from unstructured)\r\n",
      "  Downloading python_iso639-2024.1.2-py3-none-any.whl.metadata (13 kB)\r\n",
      "Collecting langdetect (from unstructured)\r\n",
      "  Downloading langdetect-1.0.9.tar.gz (981 kB)\r\n",
      "\u001b[2K     \u001b[38;2;114;156;31m━━━━━━━━━━━━━━━━━━━━━━━━━━━━━━━━━━━━━\u001b[0m \u001b[32m981.5/981.5 kB\u001b[0m \u001b[31m402.1 kB/s\u001b[0m eta \u001b[36m0:00:00\u001b[0mm eta \u001b[36m0:00:01\u001b[0m[36m0:00:01\u001b[0m\r\n",
      "\u001b[?25h  Preparing metadata (setup.py) ... \u001b[?25ldone\r\n",
      "\u001b[?25hCollecting rapidfuzz (from unstructured)\r\n",
      "  Downloading rapidfuzz-3.6.1-cp310-cp310-manylinux_2_17_x86_64.manylinux2014_x86_64.whl.metadata (11 kB)\r\n",
      "Collecting backoff (from unstructured)\r\n",
      "  Using cached backoff-2.2.1-py3-none-any.whl (15 kB)\r\n",
      "Collecting unstructured-client>=0.15.1 (from unstructured)\r\n",
      "  Downloading unstructured_client-0.15.5-py3-none-any.whl.metadata (4.9 kB)\r\n",
      "Collecting filelock (from transformers)\r\n",
      "  Downloading filelock-3.13.1-py3-none-any.whl.metadata (2.8 kB)\r\n",
      "Collecting huggingface-hub<1.0,>=0.19.3 (from transformers)\r\n",
      "  Using cached huggingface_hub-0.20.3-py3-none-any.whl.metadata (12 kB)\r\n",
      "Requirement already satisfied: packaging>=20.0 in /home/ultimate/anaconda3/envs/genai310/lib/python3.10/site-packages (from transformers) (23.2)\r\n",
      "Collecting regex!=2019.12.17 (from transformers)\r\n",
      "  Downloading regex-2023.12.25-cp310-cp310-manylinux_2_17_x86_64.manylinux2014_x86_64.whl.metadata (40 kB)\r\n",
      "\u001b[2K     \u001b[38;2;114;156;31m━━━━━━━━━━━━━━━━━━━━━━━━━━━━━━━━━━━━━━━\u001b[0m \u001b[32m40.9/40.9 kB\u001b[0m \u001b[31m499.0 kB/s\u001b[0m eta \u001b[36m0:00:00\u001b[0m kB/s\u001b[0m eta \u001b[36m0:00:01\u001b[0m\r\n",
      "\u001b[?25hCollecting tokenizers<0.19,>=0.14 (from transformers)\r\n",
      "  Downloading tokenizers-0.15.1-cp310-cp310-manylinux_2_17_x86_64.manylinux2014_x86_64.whl.metadata (6.7 kB)\r\n",
      "Collecting safetensors>=0.3.1 (from transformers)\r\n",
      "  Downloading safetensors-0.4.2-cp310-cp310-manylinux_2_17_x86_64.manylinux2014_x86_64.whl.metadata (3.8 kB)\r\n",
      "Requirement already satisfied: anyio<5,>=3.5.0 in /home/ultimate/anaconda3/envs/genai310/lib/python3.10/site-packages (from openai) (4.2.0)\r\n",
      "Collecting distro<2,>=1.7.0 (from openai)\r\n",
      "  Downloading distro-1.9.0-py3-none-any.whl.metadata (6.8 kB)\r\n",
      "Collecting httpx<1,>=0.23.0 (from openai)\r\n",
      "  Downloading httpx-0.26.0-py3-none-any.whl.metadata (7.6 kB)\r\n",
      "Requirement already satisfied: sniffio in /home/ultimate/anaconda3/envs/genai310/lib/python3.10/site-packages (from openai) (1.3.0)\r\n",
      "Requirement already satisfied: attrs>=17.3.0 in /home/ultimate/anaconda3/envs/genai310/lib/python3.10/site-packages (from aiohttp<4.0.0,>=3.8.3->langchain) (23.2.0)\r\n",
      "Requirement already satisfied: multidict<7.0,>=4.5 in /home/ultimate/anaconda3/envs/genai310/lib/python3.10/site-packages (from aiohttp<4.0.0,>=3.8.3->langchain) (6.0.4)\r\n",
      "Requirement already satisfied: yarl<2.0,>=1.0 in /home/ultimate/anaconda3/envs/genai310/lib/python3.10/site-packages (from aiohttp<4.0.0,>=3.8.3->langchain) (1.9.4)\r\n",
      "Requirement already satisfied: frozenlist>=1.1.1 in /home/ultimate/anaconda3/envs/genai310/lib/python3.10/site-packages (from aiohttp<4.0.0,>=3.8.3->langchain) (1.4.1)\r\n",
      "Requirement already satisfied: aiosignal>=1.1.2 in /home/ultimate/anaconda3/envs/genai310/lib/python3.10/site-packages (from aiohttp<4.0.0,>=3.8.3->langchain) (1.3.1)\r\n",
      "Requirement already satisfied: idna>=2.8 in /home/ultimate/anaconda3/envs/genai310/lib/python3.10/site-packages (from anyio<5,>=3.5.0->openai) (3.6)\r\n",
      "Requirement already satisfied: exceptiongroup>=1.0.2 in /home/ultimate/anaconda3/envs/genai310/lib/python3.10/site-packages (from anyio<5,>=3.5.0->openai) (1.2.0)\r\n",
      "Requirement already satisfied: marshmallow<4.0.0,>=3.18.0 in /home/ultimate/anaconda3/envs/genai310/lib/python3.10/site-packages (from dataclasses-json<0.7,>=0.5.7->langchain) (3.20.2)\r\n",
      "Requirement already satisfied: typing-inspect<1,>=0.4.0 in /home/ultimate/anaconda3/envs/genai310/lib/python3.10/site-packages (from dataclasses-json<0.7,>=0.5.7->langchain) (0.9.0)\r\n",
      "Requirement already satisfied: cython<3,>=0.27 in /home/ultimate/anaconda3/envs/genai310/lib/python3.10/site-packages (from hdbscan<1.0.0,>=0.8.33->arize-phoenix) (0.29.37)\r\n",
      "Requirement already satisfied: joblib>=1.0 in /home/ultimate/anaconda3/envs/genai310/lib/python3.10/site-packages (from hdbscan<1.0.0,>=0.8.33->arize-phoenix) (1.3.2)\r\n",
      "Requirement already satisfied: certifi in /home/ultimate/anaconda3/envs/genai310/lib/python3.10/site-packages (from httpx<1,>=0.23.0->openai) (2023.11.17)\r\n",
      "Collecting httpcore==1.* (from httpx<1,>=0.23.0->openai)\r\n",
      "  Downloading httpcore-1.0.2-py3-none-any.whl.metadata (20 kB)\r\n",
      "Requirement already satisfied: h11<0.15,>=0.13 in /home/ultimate/anaconda3/envs/genai310/lib/python3.10/site-packages (from httpcore==1.*->httpx<1,>=0.23.0->openai) (0.14.0)\r\n",
      "Collecting fsspec>=2023.5.0 (from huggingface-hub<1.0,>=0.19.3->transformers)\r\n",
      "  Using cached fsspec-2023.12.2-py3-none-any.whl.metadata (6.8 kB)\r\n",
      "Requirement already satisfied: jsonpointer>=1.9 in /home/ultimate/anaconda3/envs/genai310/lib/python3.10/site-packages (from jsonpatch<2.0,>=1.33->langchain) (2.4)\r\n",
      "Requirement already satisfied: annotated-types>=0.4.0 in /home/ultimate/anaconda3/envs/genai310/lib/python3.10/site-packages (from pydantic<3,>=1->langchain) (0.6.0)\r\n",
      "Requirement already satisfied: pydantic-core==2.14.6 in /home/ultimate/anaconda3/envs/genai310/lib/python3.10/site-packages (from pydantic<3,>=1->langchain) (2.14.6)\r\n",
      "Requirement already satisfied: charset-normalizer<4,>=2 in /home/ultimate/anaconda3/envs/genai310/lib/python3.10/site-packages (from requests<3,>=2->langchain) (3.3.2)\r\n",
      "Requirement already satisfied: urllib3<3,>=1.21.1 in /home/ultimate/anaconda3/envs/genai310/lib/python3.10/site-packages (from requests<3,>=2->langchain) (2.1.0)\r\n",
      "Requirement already satisfied: threadpoolctl>=2.0.0 in /home/ultimate/anaconda3/envs/genai310/lib/python3.10/site-packages (from scikit-learn<1.3.0->arize-phoenix) (3.2.0)\r\n",
      "Requirement already satisfied: greenlet!=0.4.17 in /home/ultimate/anaconda3/envs/genai310/lib/python3.10/site-packages (from SQLAlchemy<3,>=1.4->langchain) (3.0.3)\r\n",
      "Collecting jsonpath-python>=1.0.6 (from unstructured-client>=0.15.1->unstructured)\r\n",
      "  Downloading jsonpath_python-1.0.6-py3-none-any.whl (7.6 kB)\r\n",
      "Requirement already satisfied: mypy-extensions>=1.0.0 in /home/ultimate/anaconda3/envs/genai310/lib/python3.10/site-packages (from unstructured-client>=0.15.1->unstructured) (1.0.0)\r\n",
      "Requirement already satisfied: six>=1.16.0 in /home/ultimate/anaconda3/envs/genai310/lib/python3.10/site-packages (from unstructured-client>=0.15.1->unstructured) (1.16.0)\r\n",
      "Requirement already satisfied: soupsieve>1.2 in /home/ultimate/anaconda3/envs/genai310/lib/python3.10/site-packages (from beautifulsoup4->unstructured) (2.5)\r\n",
      "Requirement already satisfied: MarkupSafe>=2.0 in /home/ultimate/anaconda3/envs/genai310/lib/python3.10/site-packages (from jinja2->arize-phoenix) (2.1.4)\r\n",
      "Requirement already satisfied: click in /home/ultimate/anaconda3/envs/genai310/lib/python3.10/site-packages (from nltk->unstructured) (8.1.7)\r\n",
      "Requirement already satisfied: opentelemetry-api==1.22.0 in /home/ultimate/anaconda3/envs/genai310/lib/python3.10/site-packages (from opentelemetry-sdk->arize-phoenix) (1.22.0)\r\n",
      "Requirement already satisfied: opentelemetry-semantic-conventions==0.43b0 in /home/ultimate/anaconda3/envs/genai310/lib/python3.10/site-packages (from opentelemetry-sdk->arize-phoenix) (0.43b0)\r\n",
      "Requirement already satisfied: deprecated>=1.2.6 in /home/ultimate/anaconda3/envs/genai310/lib/python3.10/site-packages (from opentelemetry-api==1.22.0->opentelemetry-sdk->arize-phoenix) (1.2.14)\r\n",
      "Requirement already satisfied: importlib-metadata<7.0,>=6.0 in /home/ultimate/anaconda3/envs/genai310/lib/python3.10/site-packages (from opentelemetry-api==1.22.0->opentelemetry-sdk->arize-phoenix) (6.11.0)\r\n",
      "Requirement already satisfied: pytz>=2020.1 in /home/ultimate/anaconda3/envs/genai310/lib/python3.10/site-packages (from pandas->arize-phoenix) (2023.3.post1)\r\n",
      "Requirement already satisfied: tzdata>=2022.7 in /home/ultimate/anaconda3/envs/genai310/lib/python3.10/site-packages (from pandas->arize-phoenix) (2023.4)\r\n",
      "Requirement already satisfied: numba>=0.51.2 in /home/ultimate/anaconda3/envs/genai310/lib/python3.10/site-packages (from umap-learn->arize-phoenix) (0.58.1)\r\n",
      "Requirement already satisfied: pynndescent>=0.5 in /home/ultimate/anaconda3/envs/genai310/lib/python3.10/site-packages (from umap-learn->arize-phoenix) (0.5.11)\r\n",
      "Requirement already satisfied: llvmlite<0.42,>=0.41.0dev0 in /home/ultimate/anaconda3/envs/genai310/lib/python3.10/site-packages (from numba>=0.51.2->umap-learn->arize-phoenix) (0.41.1)\r\n",
      "Requirement already satisfied: zipp>=0.5 in /home/ultimate/anaconda3/envs/genai310/lib/python3.10/site-packages (from importlib-metadata<7.0,>=6.0->opentelemetry-api==1.22.0->opentelemetry-sdk->arize-phoenix) (3.17.0)\r\n",
      "Downloading unstructured-0.12.2-py3-none-any.whl (1.8 MB)\r\n",
      "\u001b[2K   \u001b[38;2;114;156;31m━━━━━━━━━━━━━━━━━━━━━━━━━━━━━━━━━━━━━━━━\u001b[0m \u001b[32m1.8/1.8 MB\u001b[0m \u001b[31m709.2 kB/s\u001b[0m eta \u001b[36m0:00:00\u001b[0mm eta \u001b[36m0:00:01\u001b[0m[36m0:00:01\u001b[0m\r\n",
      "\u001b[?25hDownloading transformers-4.37.1-py3-none-any.whl (8.4 MB)\r\n",
      "\u001b[2K   \u001b[38;2;114;156;31m━━━━━━━━━━━━━━━━━━━━━━━━━━━━━━━━━━━━━━━━\u001b[0m \u001b[32m8.4/8.4 MB\u001b[0m \u001b[31m1.0 MB/s\u001b[0m eta \u001b[36m0:00:00\u001b[0mm eta \u001b[36m0:00:01\u001b[0m[36m0:00:01\u001b[0m\u001b[0m\r\n",
      "\u001b[?25hUsing cached openai-1.9.0-py3-none-any.whl (223 kB)\r\n",
      "Downloading distro-1.9.0-py3-none-any.whl (20 kB)\r\n",
      "Downloading httpx-0.26.0-py3-none-any.whl (75 kB)\r\n",
      "\u001b[2K   \u001b[38;2;114;156;31m━━━━━━━━━━━━━━━━━━━━━━━━━━━━━━━━━━━━━━━━\u001b[0m \u001b[32m75.9/75.9 kB\u001b[0m \u001b[31m1.4 MB/s\u001b[0m eta \u001b[36m0:00:00\u001b[0m[31m2.1 MB/s\u001b[0m eta \u001b[36m0:00:01\u001b[0m\r\n",
      "\u001b[?25hDownloading httpcore-1.0.2-py3-none-any.whl (76 kB)\r\n",
      "\u001b[2K   \u001b[38;2;114;156;31m━━━━━━━━━━━━━━━━━━━━━━━━━━━━━━━━━━━━━━━━\u001b[0m \u001b[32m76.9/76.9 kB\u001b[0m \u001b[31m1.6 MB/s\u001b[0m eta \u001b[36m0:00:00\u001b[0m MB/s\u001b[0m eta \u001b[36m0:00:01\u001b[0m\r\n",
      "\u001b[?25hUsing cached huggingface_hub-0.20.3-py3-none-any.whl (330 kB)\r\n",
      "Downloading regex-2023.12.25-cp310-cp310-manylinux_2_17_x86_64.manylinux2014_x86_64.whl (773 kB)\r\n",
      "\u001b[2K   \u001b[38;2;114;156;31m━━━━━━━━━━━━━━━━━━━━━━━━━━━━━━━━━━━━━━━━\u001b[0m \u001b[32m774.0/774.0 kB\u001b[0m \u001b[31m2.1 MB/s\u001b[0m eta \u001b[36m0:00:00\u001b[0m MB/s\u001b[0m eta \u001b[36m0:00:01\u001b[0m:01\u001b[0m\r\n",
      "\u001b[?25hDownloading safetensors-0.4.2-cp310-cp310-manylinux_2_17_x86_64.manylinux2014_x86_64.whl (1.3 MB)\r\n",
      "\u001b[2K   \u001b[38;2;114;156;31m━━━━━━━━━━━━━━━━━━━━━━━━━━━━━━━━━━━━━━━━\u001b[0m \u001b[32m1.3/1.3 MB\u001b[0m \u001b[31m453.0 kB/s\u001b[0m eta \u001b[36m0:00:00\u001b[0mm eta \u001b[36m0:00:01\u001b[0m[36m0:00:01\u001b[0m\r\n",
      "\u001b[?25hDownloading tokenizers-0.15.1-cp310-cp310-manylinux_2_17_x86_64.manylinux2014_x86_64.whl (3.6 MB)\r\n",
      "\u001b[2K   \u001b[38;2;114;156;31m━━━━━━━━━━━━━━━━━━━━━━━━━━━━━━━━━━━━━━━━\u001b[0m \u001b[32m3.6/3.6 MB\u001b[0m \u001b[31m678.1 kB/s\u001b[0m eta \u001b[36m0:00:00\u001b[0mm eta \u001b[36m0:00:01\u001b[0m[36m0:00:01\u001b[0m\r\n",
      "\u001b[?25hDownloading unstructured_client-0.15.5-py3-none-any.whl (20 kB)\r\n",
      "Downloading chardet-5.2.0-py3-none-any.whl (199 kB)\r\n",
      "\u001b[2K   \u001b[38;2;114;156;31m━━━━━━━━━━━━━━━━━━━━━━━━━━━━━━━━━━━━━━━\u001b[0m \u001b[32m199.4/199.4 kB\u001b[0m \u001b[31m706.5 kB/s\u001b[0m eta \u001b[36m0:00:00\u001b[0m kB/s\u001b[0m eta \u001b[36m0:00:01\u001b[0m01\u001b[0m\r\n",
      "\u001b[?25hDownloading emoji-2.10.0-py2.py3-none-any.whl (457 kB)\r\n",
      "\u001b[2K   \u001b[38;2;114;156;31m━━━━━━━━━━━━━━━━━━━━━━━━━━━━━━━━━━━━━━━\u001b[0m \u001b[32m457.9/457.9 kB\u001b[0m \u001b[31m773.3 kB/s\u001b[0m eta \u001b[36m0:00:00\u001b[0m[36m0:00:01\u001b[0mm eta \u001b[36m0:00:01\u001b[0m\r\n",
      "\u001b[?25hDownloading filelock-3.13.1-py3-none-any.whl (11 kB)\r\n",
      "Downloading lxml-5.1.0-cp310-cp310-manylinux_2_17_x86_64.manylinux2014_x86_64.whl (8.0 MB)\r\n",
      "\u001b[2K   \u001b[38;2;114;156;31m━━━━━━━━━━━━━━━━━━━━━━━━━━━━━━━━━━━━━━━━\u001b[0m \u001b[32m8.0/8.0 MB\u001b[0m \u001b[31m1.3 MB/s\u001b[0m eta \u001b[36m0:00:00\u001b[0mm eta \u001b[36m0:00:01\u001b[0m[36m0:00:01\u001b[0m0m\r\n",
      "\u001b[?25hDownloading python_iso639-2024.1.2-py3-none-any.whl (274 kB)\r\n",
      "\u001b[2K   \u001b[38;2;114;156;31m━━━━━━━━━━━━━━━━━━━━━━━━━━━━━━━━━━━━━━━━\u001b[0m \u001b[32m274.7/274.7 kB\u001b[0m \u001b[31m1.2 MB/s\u001b[0m eta \u001b[36m0:00:00\u001b[0m[31m1.2 MB/s\u001b[0m eta \u001b[36m0:00:01\u001b[0m\r\n",
      "\u001b[?25hDownloading rapidfuzz-3.6.1-cp310-cp310-manylinux_2_17_x86_64.manylinux2014_x86_64.whl (3.4 MB)\r\n",
      "\u001b[2K   \u001b[38;2;114;156;31m━━━━━━━━━━━━━━━━━━━━━━━━━━━━━━━━━━━━━━━━\u001b[0m \u001b[32m3.4/3.4 MB\u001b[0m \u001b[31m1.9 MB/s\u001b[0m eta \u001b[36m0:00:00\u001b[0mm eta \u001b[36m0:00:01\u001b[0m0:01\u001b[0m:01\u001b[0m\r\n",
      "\u001b[?25hUsing cached fsspec-2023.12.2-py3-none-any.whl (168 kB)\r\n",
      "Building wheels for collected packages: langdetect\r\n",
      "  Building wheel for langdetect (setup.py) ... \u001b[?25ldone\r\n",
      "\u001b[?25h  Created wheel for langdetect: filename=langdetect-1.0.9-py3-none-any.whl size=993225 sha256=39024c672e187731eeafcc494e3b0d83673f1f68b7d2d8798be634f15c2cf6af\r\n",
      "  Stored in directory: /home/ultimate/.cache/pip/wheels/95/03/7d/59ea870c70ce4e5a370638b5462a7711ab78fba2f655d05106\r\n",
      "Successfully built langdetect\r\n",
      "Installing collected packages: filetype, tabulate, safetensors, regex, rapidfuzz, python-magic, python-iso639, lxml, langdetect, jsonpath-python, httpcore, fsspec, filelock, emoji, distro, chardet, backoff, nltk, huggingface-hub, httpx, unstructured-client, tokenizers, openai, unstructured, transformers\r\n",
      "Successfully installed backoff-2.2.1 chardet-5.2.0 distro-1.9.0 emoji-2.10.0 filelock-3.13.1 filetype-1.2.0 fsspec-2023.12.2 httpcore-1.0.2 httpx-0.26.0 huggingface-hub-0.20.3 jsonpath-python-1.0.6 langdetect-1.0.9 lxml-5.1.0 nltk-3.8.1 openai-1.9.0 python-iso639-2024.1.2 python-magic-0.4.27 rapidfuzz-3.6.1 regex-2023.12.25 safetensors-0.4.2 tabulate-0.9.0 tokenizers-0.15.1 transformers-4.37.1 unstructured-0.12.2 unstructured-client-0.15.5\r\n"
     ]
    }
   ],
   "source": [
    "# installing langchain, evaluation framework, openai, headless vector database\n",
    "!pip install langchain arize-phoenix transformers openai langchain_openai chromadb pypdf pdf2image unstructured pdfminer.six"
   ]
  },
  {
   "cell_type": "code",
   "execution_count": 3,
   "id": "12e3fdf6-5ada-46b4-aff0-a547f5c01ab2",
   "metadata": {},
   "outputs": [],
   "source": [
    "import os\n",
    "\n",
    "from langchain.chains import LLMChain, RetrievalQA\n",
    "from langchain.chains.conversational_retrieval.prompts import QA_PROMPT\n",
    "from langchain_community.document_loaders import DirectoryLoader\n",
    "from langchain.text_splitter import RecursiveCharacterTextSplitter"
   ]
  },
  {
   "cell_type": "code",
   "execution_count": 4,
   "id": "368b5312-ac72-4557-9c05-dec69e7ca260",
   "metadata": {},
   "outputs": [],
   "source": [
    "from langchain_openai import ChatOpenAI"
   ]
  },
  {
   "cell_type": "code",
   "execution_count": 5,
   "id": "fec69c9d-3f47-41b3-9cc2-ee09597aafd6",
   "metadata": {},
   "outputs": [],
   "source": [
    "# loading dataset\n",
    "from langchain.document_loaders import TextLoader\n",
    "from langchain_community.document_loaders import PyPDFLoader"
   ]
  },
  {
   "cell_type": "markdown",
   "id": "8645dfea-75ab-412a-8ae3-37a6d57ca01c",
   "metadata": {},
   "source": [
    "## Simple RAG framework"
   ]
  },
  {
   "cell_type": "code",
   "execution_count": 6,
   "id": "4f881764-69ca-4856-9bb2-c17ebd9c5f27",
   "metadata": {},
   "outputs": [],
   "source": [
    "from langchain.document_loaders import WebBaseLoader\n",
    "loader = WebBaseLoader('https://en.wikipedia.org/wiki/NASA')\n",
    "data = loader.load()"
   ]
  },
  {
   "cell_type": "code",
   "execution_count": 7,
   "id": "af532389-79f1-4312-8d61-5828c5502171",
   "metadata": {},
   "outputs": [],
   "source": [
    "# chunk the text to embed\n",
    "from langchain.text_splitter import RecursiveCharacterTextSplitter\n",
    "text_splitter = RecursiveCharacterTextSplitter(chunk_size= 600, chunk_overlap=10)\n",
    "all_splits = text_splitter.split_documents(data)"
   ]
  },
  {
   "cell_type": "code",
   "execution_count": 8,
   "id": "10bec9a4-6f6b-4010-96bb-79cdca00a50b",
   "metadata": {},
   "outputs": [],
   "source": [
    "# store chunk of text\n",
    "from langchain_openai import OpenAIEmbeddings\n",
    "from langchain.vectorstores import Chroma\n",
    "vectorstore = Chroma.from_documents(documents=all_splits, embedding=OpenAIEmbeddings())"
   ]
  },
  {
   "cell_type": "code",
   "execution_count": 9,
   "id": "41627d22-fab9-46fe-a620-3aa44be0e07e",
   "metadata": {},
   "outputs": [],
   "source": [
    "# through llm\n",
    "from langchain_openai import ChatOpenAI\n",
    "chat_llm = ChatOpenAI(model_name='gpt-3.5-turbo', temperature=0)"
   ]
  },
  {
   "cell_type": "code",
   "execution_count": 10,
   "id": "2a07d413-9924-487f-b0fd-ceab132d7ecc",
   "metadata": {},
   "outputs": [],
   "source": [
    "# initialize chain\n",
    "from langchain.chains import RetrievalQA\n",
    "chain = RetrievalQA.from_chain_type(\n",
    "    llm = chat_llm,\n",
    "    chain_type = 'stuff',\n",
    "    retriever = vectorstore.as_retriever(search_kwargs={'k': 4})\n",
    ")"
   ]
  },
  {
   "cell_type": "code",
   "execution_count": 11,
   "id": "a27a26bd-8020-46a4-b2f8-180de4c7a8de",
   "metadata": {},
   "outputs": [
    {
     "data": {
      "text/plain": [
       "{'query': 'role of NASA',\n",
       " 'result': \"The role of NASA is to conduct scientific research and exploration in the field of space. NASA's main objectives include expanding human knowledge through new scientific discoveries, extending human presence to the Moon and Mars for sustainable long-term exploration, catalyzing economic growth and driving innovation to address national challenges, and enhancing capabilities and operations for mission success. NASA collaborates with other space agencies, such as the European Space Agency, to support joint missions and share resources and expertise.\"}"
      ]
     },
     "execution_count": 11,
     "metadata": {},
     "output_type": "execute_result"
    }
   ],
   "source": [
    "# query the chain for retrieval\n",
    "query = 'role of NASA'\n",
    "response = chain.invoke(query)\n",
    "response"
   ]
  },
  {
   "cell_type": "markdown",
   "id": "fa1ee458-9a8b-4312-ad46-55f82bcc7cc5",
   "metadata": {},
   "source": [
    "## RAG Evaluations"
   ]
  },
  {
   "cell_type": "code",
   "execution_count": 12,
   "id": "335339c2-cdc2-4fb9-acb7-6196094f3082",
   "metadata": {},
   "outputs": [],
   "source": [
    "# for running evaluations in async \n",
    "\n",
    "import nest_asyncio\n",
    "nest_asyncio.apply()"
   ]
  },
  {
   "cell_type": "code",
   "execution_count": 13,
   "id": "13d453bb-bd90-42db-9d73-a0a8b61fb5ef",
   "metadata": {},
   "outputs": [
    {
     "name": "stdout",
     "output_type": "stream",
     "text": [
      "🌍 To view the Phoenix app in your browser, visit http://localhost:6006/\n",
      "📺 To view the Phoenix app in a notebook, run `px.active_session().view()`\n",
      "📖 For more information on how to use Phoenix, check out https://docs.arize.com/phoenix\n"
     ]
    }
   ],
   "source": [
    "import phoenix as px\n",
    "from phoenix.experimental.evals import (\n",
    "    HALLUCINATION_PROMPT_RAILS_MAP,\n",
    "    HALLUCINATION_PROMPT_TEMPLATE,\n",
    "    OpenAIModel,\n",
    "    llm_classify,\n",
    ")\n",
    "\n",
    "session = px.launch_app()"
   ]
  },
  {
   "cell_type": "code",
   "execution_count": 14,
   "id": "5e86a77e-2a59-41a4-867e-2ed2549efaf9",
   "metadata": {},
   "outputs": [
    {
     "name": "stdout",
     "output_type": "stream",
     "text": [
      "\n",
      "In this task, you will be presented with a query, a reference text and an answer. The answer is\n",
      "generated to the question based on the reference text. The answer may contain false information, you\n",
      "must use the reference text to determine if the answer to the question contains false information,\n",
      "if the answer is a hallucination of facts. Your objective is to determine whether the reference text\n",
      "contains factual information and is not a hallucination. A 'hallucination' in this context refers to\n",
      "an answer that is not based on the reference text or assumes information that is not available in\n",
      "the reference text. Your response should be a single word: either \"factual\" or \"hallucinated\", and\n",
      "it should not include any other text or characters. \"hallucinated\" indicates that the answer\n",
      "provides factually inaccurate information to the query based on the reference text. \"factual\"\n",
      "indicates that the answer to the question is correct relative to the reference text, and does not\n",
      "contain made up information. Please read the query and reference text carefully before determining\n",
      "your response.\n",
      "\n",
      "    [BEGIN DATA]\n",
      "    ************\n",
      "    [Query]: {input}\n",
      "    ************\n",
      "    [Reference text]: {reference}\n",
      "    ************\n",
      "    [Answer]: {output}\n",
      "    ************\n",
      "    [END DATA]\n",
      "\n",
      "    Is the answer above factual or hallucinated based on the query and reference text?\n",
      "\n"
     ]
    }
   ],
   "source": [
    "print(HALLUCINATION_PROMPT_TEMPLATE)"
   ]
  },
  {
   "cell_type": "code",
   "execution_count": 15,
   "id": "bc979179-1983-4949-8c9c-4def11cebd53",
   "metadata": {},
   "outputs": [],
   "source": [
    "from phoenix.trace.langchain import OpenInferenceTracer, LangChainInstrumentor"
   ]
  },
  {
   "cell_type": "code",
   "execution_count": 16,
   "id": "26e72898-03c1-41ca-ba58-f986fe3e10a8",
   "metadata": {},
   "outputs": [],
   "source": [
    "tracer = OpenInferenceTracer()\n",
    "LangChainInstrumentor(tracer).instrument()"
   ]
  },
  {
   "cell_type": "markdown",
   "id": "3a9a6351-e0aa-445b-b838-6accebf601c0",
   "metadata": {},
   "source": [
    "### Include RAG flow after attaching the tracer to session"
   ]
  },
  {
   "cell_type": "code",
   "execution_count": 17,
   "id": "d032d6a0-5557-4348-91e0-8d184424b1b3",
   "metadata": {},
   "outputs": [
    {
     "data": {
      "text/plain": [
       "{'query': 'role of NASA',\n",
       " 'result': 'The role of NASA is to conduct research and exploration in the fields of space and aeronautics. Its main objectives include expanding human knowledge through scientific discoveries, extending human presence to the Moon and Mars, catalyzing economic growth and innovation, and enhancing capabilities and operations for mission success. NASA is responsible for leading American space exploration efforts and has been involved in various missions, including the Apollo Moon landing missions and the operation of the International Space Station.'}"
      ]
     },
     "execution_count": 17,
     "metadata": {},
     "output_type": "execute_result"
    }
   ],
   "source": [
    "\n",
    "from langchain.document_loaders import WebBaseLoader\n",
    "loader = WebBaseLoader('https://en.wikipedia.org/wiki/NASA')\n",
    "data = loader.load()\n",
    "\n",
    "# chunk the text to embed\n",
    "from langchain.text_splitter import RecursiveCharacterTextSplitter\n",
    "text_splitter = RecursiveCharacterTextSplitter(chunk_size= 600, chunk_overlap=10)\n",
    "all_splits = text_splitter.split_documents(data)\n",
    "\n",
    "# store chunk of text\n",
    "from langchain_openai import OpenAIEmbeddings\n",
    "from langchain.vectorstores import Chroma\n",
    "vectorstore = Chroma.from_documents(documents=all_splits, embedding=OpenAIEmbeddings())\n",
    "\n",
    "# through llm\n",
    "from langchain_openai import ChatOpenAI\n",
    "chat_model = ChatOpenAI(model_name='gpt-3.5-turbo', temperature=0)\n",
    "\n",
    "# initialize chain\n",
    "from langchain.chains import RetrievalQA\n",
    "chain = RetrievalQA.from_chain_type(\n",
    "    llm = chat_model,\n",
    "    chain_type = 'stuff',\n",
    "    retriever = vectorstore.as_retriever(search_kwargs={'k': 4})\n",
    ")\n",
    "\n",
    "# query the chain for retrieval\n",
    "query = 'role of NASA'\n",
    "response = chain.invoke(query)\n",
    "response\n",
    "\n"
   ]
  },
  {
   "cell_type": "markdown",
   "id": "b45da6c7-efc8-475d-a17e-d4452ee94331",
   "metadata": {},
   "source": [
    "### Invoking query to RAG  - check traces being streamed to phoenix dashboard @ http://localhost:6006/"
   ]
  },
  {
   "cell_type": "code",
   "execution_count": 18,
   "id": "9a29ce4c-a58e-4659-b69b-ada91486c436",
   "metadata": {},
   "outputs": [
    {
     "data": {
      "text/plain": [
       "{'query': 'where is NASAs headquarter?',\n",
       " 'result': 'NASA\\'s headquarters is located in Washington, D.C. at the following coordinates: 38°52\\'59\"N 77°0\\'59\"W.'}"
      ]
     },
     "execution_count": 18,
     "metadata": {},
     "output_type": "execute_result"
    }
   ],
   "source": [
    "# query the chain for retrieval\n",
    "query = 'where is NASAs headquarter?'\n",
    "response = chain.invoke(query)\n",
    "response"
   ]
  },
  {
   "cell_type": "code",
   "execution_count": 83,
   "id": "896002e9-9f89-45be-add4-8f135980e5d1",
   "metadata": {},
   "outputs": [
    {
     "data": {
      "text/plain": [
       "{'query': 'what is the first moon landing? ',\n",
       " 'result': 'The first moon landing refers to the historic event when the Apollo 11 mission successfully landed astronauts Neil Armstrong and Buzz Aldrin on the surface of the Moon on July 20, 1969. It was a significant achievement in human space exploration and marked the first time that humans set foot on another celestial body.'}"
      ]
     },
     "execution_count": 83,
     "metadata": {},
     "output_type": "execute_result"
    }
   ],
   "source": [
    "# query the chain for retrieval\n",
    "query = 'what is the first moon landing? '\n",
    "response = chain.invoke(query)\n",
    "response"
   ]
  },
  {
   "cell_type": "markdown",
   "id": "6f7adac2-f3a1-4c92-b12d-263a5cdddacc",
   "metadata": {},
   "source": [
    "### Phoenix evaluations - fetching traces from phoenix session"
   ]
  },
  {
   "cell_type": "code",
   "execution_count": 19,
   "id": "802e190f-4a08-4f9f-825e-fc79bd17e4ba",
   "metadata": {},
   "outputs": [],
   "source": [
    "from phoenix.session.evaluation import get_qa_with_reference, get_retrieved_documents\n",
    "from sklearn.metrics import precision_recall_fscore_support, confusion_matrix, ConfusionMatrixDisplay"
   ]
  },
  {
   "cell_type": "code",
   "execution_count": 20,
   "id": "ffa7167c-d40a-4856-a837-596d23b78e85",
   "metadata": {},
   "outputs": [
    {
     "data": {
      "text/html": [
       "<div>\n",
       "<style scoped>\n",
       "    .dataframe tbody tr th:only-of-type {\n",
       "        vertical-align: middle;\n",
       "    }\n",
       "\n",
       "    .dataframe tbody tr th {\n",
       "        vertical-align: top;\n",
       "    }\n",
       "\n",
       "    .dataframe thead th {\n",
       "        text-align: right;\n",
       "    }\n",
       "</style>\n",
       "<table border=\"1\" class=\"dataframe\">\n",
       "  <thead>\n",
       "    <tr style=\"text-align: right;\">\n",
       "      <th></th>\n",
       "      <th>input</th>\n",
       "      <th>output</th>\n",
       "      <th>reference</th>\n",
       "    </tr>\n",
       "    <tr>\n",
       "      <th>context.span_id</th>\n",
       "      <th></th>\n",
       "      <th></th>\n",
       "      <th></th>\n",
       "    </tr>\n",
       "  </thead>\n",
       "  <tbody>\n",
       "    <tr>\n",
       "      <th>fe8d53af-bc58-42f6-bf8b-660da9b3fa8e</th>\n",
       "      <td>where is NASAs headquarter?</td>\n",
       "      <td>NASA's headquarters is located in Washington, ...</td>\n",
       "      <td>National Aeronautics and Space AdministrationN...</td>\n",
       "    </tr>\n",
       "    <tr>\n",
       "      <th>83160d6b-8084-455e-a536-c1b6c89bd611</th>\n",
       "      <td>role of NASA</td>\n",
       "      <td>The role of NASA is to conduct research and ex...</td>\n",
       "      <td>The National Aeronautics and Space Administrat...</td>\n",
       "    </tr>\n",
       "  </tbody>\n",
       "</table>\n",
       "</div>"
      ],
      "text/plain": [
       "                                                            input  \\\n",
       "context.span_id                                                     \n",
       "fe8d53af-bc58-42f6-bf8b-660da9b3fa8e  where is NASAs headquarter?   \n",
       "83160d6b-8084-455e-a536-c1b6c89bd611                 role of NASA   \n",
       "\n",
       "                                                                                 output  \\\n",
       "context.span_id                                                                           \n",
       "fe8d53af-bc58-42f6-bf8b-660da9b3fa8e  NASA's headquarters is located in Washington, ...   \n",
       "83160d6b-8084-455e-a536-c1b6c89bd611  The role of NASA is to conduct research and ex...   \n",
       "\n",
       "                                                                              reference  \n",
       "context.span_id                                                                          \n",
       "fe8d53af-bc58-42f6-bf8b-660da9b3fa8e  National Aeronautics and Space AdministrationN...  \n",
       "83160d6b-8084-455e-a536-c1b6c89bd611  The National Aeronautics and Space Administrat...  "
      ]
     },
     "execution_count": 20,
     "metadata": {},
     "output_type": "execute_result"
    }
   ],
   "source": [
    "queries_df = get_qa_with_reference(session)\n",
    "queries_df"
   ]
  },
  {
   "cell_type": "code",
   "execution_count": 21,
   "id": "64398c72-0790-4f9a-bb0e-fa57bf843c73",
   "metadata": {},
   "outputs": [
    {
     "data": {
      "text/html": [
       "<div>\n",
       "<style scoped>\n",
       "    .dataframe tbody tr th:only-of-type {\n",
       "        vertical-align: middle;\n",
       "    }\n",
       "\n",
       "    .dataframe tbody tr th {\n",
       "        vertical-align: top;\n",
       "    }\n",
       "\n",
       "    .dataframe thead th {\n",
       "        text-align: right;\n",
       "    }\n",
       "</style>\n",
       "<table border=\"1\" class=\"dataframe\">\n",
       "  <thead>\n",
       "    <tr style=\"text-align: right;\">\n",
       "      <th></th>\n",
       "      <th></th>\n",
       "      <th>context.trace_id</th>\n",
       "      <th>input</th>\n",
       "      <th>reference</th>\n",
       "      <th>document_score</th>\n",
       "    </tr>\n",
       "    <tr>\n",
       "      <th>context.span_id</th>\n",
       "      <th>document_position</th>\n",
       "      <th></th>\n",
       "      <th></th>\n",
       "      <th></th>\n",
       "      <th></th>\n",
       "    </tr>\n",
       "  </thead>\n",
       "  <tbody>\n",
       "    <tr>\n",
       "      <th rowspan=\"4\" valign=\"top\">c3e16e16-841c-490c-8957-973037d2630e</th>\n",
       "      <th>0</th>\n",
       "      <td>0fc597cf-78c3-4078-84e2-007d3981b246</td>\n",
       "      <td>where is NASAs headquarter?</td>\n",
       "      <td>National Aeronautics and Space AdministrationN...</td>\n",
       "      <td>None</td>\n",
       "    </tr>\n",
       "    <tr>\n",
       "      <th>1</th>\n",
       "      <td>0fc597cf-78c3-4078-84e2-007d3981b246</td>\n",
       "      <td>where is NASAs headquarter?</td>\n",
       "      <td>National Aeronautics and Space AdministrationN...</td>\n",
       "      <td>None</td>\n",
       "    </tr>\n",
       "    <tr>\n",
       "      <th>2</th>\n",
       "      <td>0fc597cf-78c3-4078-84e2-007d3981b246</td>\n",
       "      <td>where is NASAs headquarter?</td>\n",
       "      <td>The Explorer program office is based at NASA G...</td>\n",
       "      <td>None</td>\n",
       "    </tr>\n",
       "    <tr>\n",
       "      <th>3</th>\n",
       "      <td>0fc597cf-78c3-4078-84e2-007d3981b246</td>\n",
       "      <td>where is NASAs headquarter?</td>\n",
       "      <td>The Explorer program office is based at NASA G...</td>\n",
       "      <td>None</td>\n",
       "    </tr>\n",
       "    <tr>\n",
       "      <th rowspan=\"4\" valign=\"top\">f510bbda-f4bd-4304-84ae-1422af57883c</th>\n",
       "      <th>0</th>\n",
       "      <td>38e41d4c-5eff-417c-a247-fee6bfb959a2</td>\n",
       "      <td>role of NASA</td>\n",
       "      <td>The National Aeronautics and Space Administrat...</td>\n",
       "      <td>None</td>\n",
       "    </tr>\n",
       "    <tr>\n",
       "      <th>1</th>\n",
       "      <td>38e41d4c-5eff-417c-a247-fee6bfb959a2</td>\n",
       "      <td>role of NASA</td>\n",
       "      <td>The National Aeronautics and Space Administrat...</td>\n",
       "      <td>None</td>\n",
       "    </tr>\n",
       "    <tr>\n",
       "      <th>2</th>\n",
       "      <td>38e41d4c-5eff-417c-a247-fee6bfb959a2</td>\n",
       "      <td>role of NASA</td>\n",
       "      <td>Expand human knowledge through new scientific ...</td>\n",
       "      <td>None</td>\n",
       "    </tr>\n",
       "    <tr>\n",
       "      <th>3</th>\n",
       "      <td>38e41d4c-5eff-417c-a247-fee6bfb959a2</td>\n",
       "      <td>role of NASA</td>\n",
       "      <td>Expand human knowledge through new scientific ...</td>\n",
       "      <td>None</td>\n",
       "    </tr>\n",
       "  </tbody>\n",
       "</table>\n",
       "</div>"
      ],
      "text/plain": [
       "                                                                            context.trace_id  \\\n",
       "context.span_id                      document_position                                         \n",
       "c3e16e16-841c-490c-8957-973037d2630e 0                  0fc597cf-78c3-4078-84e2-007d3981b246   \n",
       "                                     1                  0fc597cf-78c3-4078-84e2-007d3981b246   \n",
       "                                     2                  0fc597cf-78c3-4078-84e2-007d3981b246   \n",
       "                                     3                  0fc597cf-78c3-4078-84e2-007d3981b246   \n",
       "f510bbda-f4bd-4304-84ae-1422af57883c 0                  38e41d4c-5eff-417c-a247-fee6bfb959a2   \n",
       "                                     1                  38e41d4c-5eff-417c-a247-fee6bfb959a2   \n",
       "                                     2                  38e41d4c-5eff-417c-a247-fee6bfb959a2   \n",
       "                                     3                  38e41d4c-5eff-417c-a247-fee6bfb959a2   \n",
       "\n",
       "                                                                              input  \\\n",
       "context.span_id                      document_position                                \n",
       "c3e16e16-841c-490c-8957-973037d2630e 0                  where is NASAs headquarter?   \n",
       "                                     1                  where is NASAs headquarter?   \n",
       "                                     2                  where is NASAs headquarter?   \n",
       "                                     3                  where is NASAs headquarter?   \n",
       "f510bbda-f4bd-4304-84ae-1422af57883c 0                                 role of NASA   \n",
       "                                     1                                 role of NASA   \n",
       "                                     2                                 role of NASA   \n",
       "                                     3                                 role of NASA   \n",
       "\n",
       "                                                                                                reference  \\\n",
       "context.span_id                      document_position                                                      \n",
       "c3e16e16-841c-490c-8957-973037d2630e 0                  National Aeronautics and Space AdministrationN...   \n",
       "                                     1                  National Aeronautics and Space AdministrationN...   \n",
       "                                     2                  The Explorer program office is based at NASA G...   \n",
       "                                     3                  The Explorer program office is based at NASA G...   \n",
       "f510bbda-f4bd-4304-84ae-1422af57883c 0                  The National Aeronautics and Space Administrat...   \n",
       "                                     1                  The National Aeronautics and Space Administrat...   \n",
       "                                     2                  Expand human knowledge through new scientific ...   \n",
       "                                     3                  Expand human knowledge through new scientific ...   \n",
       "\n",
       "                                                       document_score  \n",
       "context.span_id                      document_position                 \n",
       "c3e16e16-841c-490c-8957-973037d2630e 0                           None  \n",
       "                                     1                           None  \n",
       "                                     2                           None  \n",
       "                                     3                           None  \n",
       "f510bbda-f4bd-4304-84ae-1422af57883c 0                           None  \n",
       "                                     1                           None  \n",
       "                                     2                           None  \n",
       "                                     3                           None  "
      ]
     },
     "execution_count": 21,
     "metadata": {},
     "output_type": "execute_result"
    }
   ],
   "source": [
    "retrieved_docs_df = get_retrieved_documents(session)\n",
    "retrieved_docs_df"
   ]
  },
  {
   "cell_type": "markdown",
   "id": "b86ee285-d987-4631-a3e6-076046ecbb83",
   "metadata": {},
   "source": [
    "### Setting model to use evaluations on"
   ]
  },
  {
   "cell_type": "code",
   "execution_count": 22,
   "id": "ac4c5b62-2e12-4477-98e0-bbfe8627cd6c",
   "metadata": {},
   "outputs": [],
   "source": [
    "eval_model = OpenAIModel(\n",
    "    model_name=\"gpt-4-1106-preview\",\n",
    ")"
   ]
  },
  {
   "cell_type": "markdown",
   "id": "47c6a944-a391-4196-9c08-404ca4aec15f",
   "metadata": {
    "jp-MarkdownHeadingCollapsed": true
   },
   "source": [
    "### Evaluations Method 1"
   ]
  },
  {
   "cell_type": "code",
   "execution_count": 33,
   "id": "ae2dfb59-20d4-4eb1-a74e-334dbe6d5b62",
   "metadata": {},
   "outputs": [
    {
     "data": {
      "application/vnd.jupyter.widget-view+json": {
       "model_id": "e4e28ab1076641c1afad5ea505eb9b21",
       "version_major": 2,
       "version_minor": 0
      },
      "text/plain": [
       "llm_classify |          | 0/1 (0.0%) | ⏳ 00:00<? | ?it/s"
      ]
     },
     "metadata": {},
     "output_type": "display_data"
    },
    {
     "data": {
      "text/plain": [
       "['factual']"
      ]
     },
     "execution_count": 33,
     "metadata": {},
     "output_type": "execute_result"
    }
   ],
   "source": [
    "rails = list(HALLUCINATION_PROMPT_RAILS_MAP.values())\n",
    "hallucination_classifications = llm_classify(\n",
    "    dataframe=queries_df, template=HALLUCINATION_PROMPT_TEMPLATE, model=eval_model, rails=rails, concurrency=20\n",
    ")[\"label\"].tolist()\n",
    "hallucination_classifications"
   ]
  },
  {
   "cell_type": "code",
   "execution_count": 35,
   "id": "0fd8fdaa-6c18-4fe5-b1c0-fc51949f9f73",
   "metadata": {},
   "outputs": [
    {
     "name": "stdout",
     "output_type": "stream",
     "text": [
      "              precision    recall  f1-score   support\n",
      "\n",
      "hallucinated       0.00      0.00      0.00         0\n",
      "     factual       1.00      1.00      1.00         1\n",
      "\n",
      "   micro avg       1.00      1.00      1.00         1\n",
      "   macro avg       0.50      0.50      0.50         1\n",
      "weighted avg       1.00      1.00      1.00         1\n",
      "\n"
     ]
    },
    {
     "data": {
      "text/plain": [
       "<Axes: title={'center': 'Confusion Matrix (Normalized)'}, xlabel='Predicted Classes', ylabel='Actual Classes'>"
      ]
     },
     "execution_count": 35,
     "metadata": {},
     "output_type": "execute_result"
    },
    {
     "data": {
      "image/png": "[encoded data removed]",
      "text/plain": [
       "<Figure size 640x480 with 2 Axes>"
      ]
     },
     "metadata": {},
     "output_type": "display_data"
    }
   ],
   "source": [
    "import matplotlib.pyplot as plt\n",
    "from sklearn.metrics import classification_report\n",
    "from pycm import ConfusionMatrix\n",
    "\n",
    "import warnings\n",
    "warnings.filterwarnings('ignore') \n",
    "\n",
    "\n",
    "true_labels = ['factual'] # , 'factual', 'factual'\n",
    "print(classification_report(true_labels, hallucination_classifications, labels=rails))\n",
    "\n",
    "confusion_matrix = ConfusionMatrix(\n",
    "    actual_vector=true_labels,\n",
    "    predict_vector=hallucination_classifications,\n",
    "    classes=rails,\n",
    ")\n",
    "confusion_matrix.plot(\n",
    "    cmap=plt.colormaps[\"Blues\"],\n",
    "    number_label=True,\n",
    "    normalized=True,\n",
    ")"
   ]
  },
  {
   "cell_type": "code",
   "execution_count": 36,
   "id": "a59a3176-1f37-4186-b111-a90420074ee5",
   "metadata": {},
   "outputs": [
    {
     "name": "stdout",
     "output_type": "stream",
     "text": [
      "Using prompt:\n",
      "\n",
      "\n",
      "In this task, you will be presented with a query, a reference text and an answer. The answer is\n",
      "generated to the question based on the reference text. The answer may contain false information, you\n",
      "must use the reference text to determine if the answer to the question contains false information,\n",
      "if the answer is a hallucination of facts. Your objective is to determine whether the reference text\n",
      "contains factual information and is not a hallucination. A 'hallucination' in this context refers to\n",
      "an answer that is not based on the reference text or assumes information that is not available in\n",
      "the reference text.\n",
      "\n",
      "    [BEGIN DATA]\n",
      "    ************\n",
      "    [Query]: {input}\n",
      "    ************\n",
      "    [Reference text]: {reference}\n",
      "    ************\n",
      "    [Answer]: {output}\n",
      "    ************\n",
      "    [END DATA]\n",
      "\n",
      "    Is the answer above factual or hallucinated based on the query and reference text?\n",
      "\n",
      "Please read the query, reference text and answer carefully, then write out in a step by step manner\n",
      "an EXPLANATION to show how to determine if the answer is \"factual\" or \"hallucinated\". Avoid simply\n",
      "stating the correct answer at the outset. Your response LABEL should be a single word: either\n",
      "\"factual\" or \"hallucinated\", and it should not include any other text or characters. \"hallucinated\"\n",
      "indicates that the answer provides factually inaccurate information to the query based on the\n",
      "reference text. \"factual\" indicates that the answer to the question is correct relative to the\n",
      "reference text, and does not contain made up information.\n",
      "\n",
      "Example response:\n",
      "************\n",
      "EXPLANATION: An explanation of your reasoning for why the label is \"factual\" or \"hallucinated\"\n",
      "LABEL: \"factual\" or \"hallucinated\"\n",
      "************\n",
      "\n",
      "EXPLANATION:\n",
      "OpenAI invocation parameters: {'model': 'gpt-4-1106-preview', 'temperature': 0.0, 'max_tokens': 256, 'frequency_penalty': 0, 'presence_penalty': 0, 'top_p': 1, 'n': 1, 'timeout': None}\n"
     ]
    },
    {
     "data": {
      "application/vnd.jupyter.widget-view+json": {
       "model_id": "2085bd885d124e3eb131ff4d86adcd1f",
       "version_major": 2,
       "version_minor": 0
      },
      "text/plain": [
       "llm_classify |          | 0/1 (0.0%) | ⏳ 00:00<? | ?it/s"
      ]
     },
     "metadata": {},
     "output_type": "display_data"
    },
    {
     "name": "stdout",
     "output_type": "stream",
     "text": [
      "- Snapped 'factual' to rail: factual\n"
     ]
    }
   ],
   "source": [
    "hallucination_classifications_df = llm_classify(\n",
    "    dataframe=queries_df,\n",
    "    template=HALLUCINATION_PROMPT_TEMPLATE,\n",
    "    model=eval_model,\n",
    "    rails=rails,\n",
    "    provide_explanation=True,\n",
    "    verbose=True,\n",
    "    concurrency=20,\n",
    ")"
   ]
  },
  {
   "cell_type": "code",
   "execution_count": 37,
   "id": "b3b1e0ba-2f33-41f6-9029-5db7a58ef9b1",
   "metadata": {},
   "outputs": [
    {
     "data": {
      "text/html": [
       "<div>\n",
       "<style scoped>\n",
       "    .dataframe tbody tr th:only-of-type {\n",
       "        vertical-align: middle;\n",
       "    }\n",
       "\n",
       "    .dataframe tbody tr th {\n",
       "        vertical-align: top;\n",
       "    }\n",
       "\n",
       "    .dataframe thead th {\n",
       "        text-align: right;\n",
       "    }\n",
       "</style>\n",
       "<table border=\"1\" class=\"dataframe\">\n",
       "  <thead>\n",
       "    <tr style=\"text-align: right;\">\n",
       "      <th></th>\n",
       "      <th>input</th>\n",
       "      <th>output</th>\n",
       "      <th>reference</th>\n",
       "      <th>label</th>\n",
       "      <th>explanation</th>\n",
       "    </tr>\n",
       "    <tr>\n",
       "      <th>context.span_id</th>\n",
       "      <th></th>\n",
       "      <th></th>\n",
       "      <th></th>\n",
       "      <th></th>\n",
       "      <th></th>\n",
       "    </tr>\n",
       "  </thead>\n",
       "  <tbody>\n",
       "    <tr>\n",
       "      <th>e588bbc0-14ce-43dd-ae53-5b2d7eea694b</th>\n",
       "      <td>role of NASA</td>\n",
       "      <td>The role of NASA is to conduct research and ex...</td>\n",
       "      <td>The National Aeronautics and Space Administrat...</td>\n",
       "      <td>factual</td>\n",
       "      <td>The answer provided aligns with the informatio...</td>\n",
       "    </tr>\n",
       "  </tbody>\n",
       "</table>\n",
       "</div>"
      ],
      "text/plain": [
       "                                             input  \\\n",
       "context.span_id                                      \n",
       "e588bbc0-14ce-43dd-ae53-5b2d7eea694b  role of NASA   \n",
       "\n",
       "                                                                                 output  \\\n",
       "context.span_id                                                                           \n",
       "e588bbc0-14ce-43dd-ae53-5b2d7eea694b  The role of NASA is to conduct research and ex...   \n",
       "\n",
       "                                                                              reference  \\\n",
       "context.span_id                                                                           \n",
       "e588bbc0-14ce-43dd-ae53-5b2d7eea694b  The National Aeronautics and Space Administrat...   \n",
       "\n",
       "                                        label  \\\n",
       "context.span_id                                 \n",
       "e588bbc0-14ce-43dd-ae53-5b2d7eea694b  factual   \n",
       "\n",
       "                                                                            explanation  \n",
       "context.span_id                                                                          \n",
       "e588bbc0-14ce-43dd-ae53-5b2d7eea694b  The answer provided aligns with the informatio...  "
      ]
     },
     "execution_count": 37,
     "metadata": {},
     "output_type": "execute_result"
    }
   ],
   "source": [
    "import pandas as pd\n",
    "merged_df = pd.merge(\n",
    "    queries_df, hallucination_classifications_df, left_index=True, right_index=True\n",
    ")\n",
    "merged_df"
   ]
  },
  {
   "cell_type": "code",
   "execution_count": 38,
   "id": "f04d108c-d914-4d67-8f94-05c9571cea39",
   "metadata": {},
   "outputs": [],
   "source": [
    "import numpy as np\n",
    "y_true = true_labels\n",
    "y_pred = merged_df[\"label\"]\n",
    "\n",
    "# y_pred\n",
    "# Compute Per-Class Precision, Recall, F1 Score, Support\n",
    "precision, recall, f1, support = precision_recall_fscore_support(true_labels, merged_df[\"label\"])"
   ]
  },
  {
   "cell_type": "code",
   "execution_count": 39,
   "id": "01c56684-16ca-4c77-bd13-c0e1ab796816",
   "metadata": {},
   "outputs": [
    {
     "data": {
      "text/plain": [
       "(array([1.]), array([1.]), array([1.]), array([1]))"
      ]
     },
     "execution_count": 39,
     "metadata": {},
     "output_type": "execute_result"
    }
   ],
   "source": [
    "precision, recall, f1, support "
   ]
  },
  {
   "cell_type": "code",
   "execution_count": 102,
   "id": "83ee5a15-e9dd-4982-8ba5-7f3fddf0060c",
   "metadata": {},
   "outputs": [
    {
     "data": {
      "text/plain": [
       "\"The first lunar landing was conducted by Apollo\\xa011. Commanded by Neil Armstrong with astronauts Buzz Aldrin and Michael Collins, Apollo\\xa011 was one of the most significant missions in NASA's history, marking the end of the Space Race when the Soviet Union gave up its lunar ambitions. As the first human to step on the surface of the Moon, Neil Armstrong uttered the now famous words:\\n\\nThe first lunar landing was conducted by Apollo\\xa011. Commanded by Neil Armstrong with astronauts Buzz Aldrin and Michael Collins, Apollo\\xa011 was one of the most significant missions in NASA's history, marking the end of the Space Race when the Soviet Union gave up its lunar ambitions. As the first human to step on the surface of the Moon, Neil Armstrong uttered the now famous words:\\n\\nLaunch of Apollo 11\\n\\nLaunch of Apollo 11\""
      ]
     },
     "execution_count": 102,
     "metadata": {},
     "output_type": "execute_result"
    }
   ],
   "source": [
    "merged_df['reference'][0]"
   ]
  },
  {
   "cell_type": "markdown",
   "id": "86b4403a-ec06-404a-9df6-a0208c9c4744",
   "metadata": {},
   "source": [
    "### Evaluations Method 2"
   ]
  },
  {
   "cell_type": "code",
   "execution_count": 23,
   "id": "a1a7a4fb-6f1e-4c8b-85e6-2516a79c96f7",
   "metadata": {},
   "outputs": [],
   "source": [
    "from phoenix.experimental.evals import (\n",
    "    HallucinationEvaluator,\n",
    "    QAEvaluator,\n",
    "    RelevanceEvaluator,\n",
    "    run_evals,\n",
    ")\n",
    "from phoenix.trace import DocumentEvaluations, SpanEvaluations"
   ]
  },
  {
   "cell_type": "markdown",
   "id": "7bbaaf7e-617f-4784-b0cb-5f964e4ed349",
   "metadata": {},
   "source": [
    "#### Hallucination and QA correctness "
   ]
  },
  {
   "cell_type": "code",
   "execution_count": 24,
   "id": "3ee430a3-eeef-43b5-9bd9-4f232810e3d7",
   "metadata": {},
   "outputs": [
    {
     "data": {
      "application/vnd.jupyter.widget-view+json": {
       "model_id": "332e5436ee7146538977b165f39df1af",
       "version_major": 2,
       "version_minor": 0
      },
      "text/plain": [
       "run_evals |          | 0/4 (0.0%) | ⏳ 00:00<? | ?it/s"
      ]
     },
     "metadata": {},
     "output_type": "display_data"
    },
    {
     "name": "stderr",
     "output_type": "stream",
     "text": [
      "\n",
      "Sending Evaluations:   0%|                                                                                                                                                                     | 0/4 [00:00<?, ?it/s]\u001b[A\n",
      "Sending Evaluations: 100%|█████████████████████████████████████████████████████████████████████████████████████████████████████████████████████████████████████████████████████████████| 4/4 [00:00<00:00, 38.29it/s]\u001b[A\n"
     ]
    }
   ],
   "source": [
    "hallucination_evaluator = HallucinationEvaluator(eval_model)\n",
    "qa_correctness_evaluator = QAEvaluator(eval_model)\n",
    "\n",
    "hallucination_eval_df, qa_correctness_eval_df = run_evals(\n",
    "    dataframe=queries_df,\n",
    "    evaluators=[hallucination_evaluator, qa_correctness_evaluator],\n",
    "    provide_explanation=True,\n",
    ")\n",
    "\n",
    "px.log_evaluations(\n",
    "    SpanEvaluations(eval_name=\"Hallucination\", dataframe=hallucination_eval_df),\n",
    "    SpanEvaluations(eval_name=\"QA Correctness\", dataframe=qa_correctness_eval_df),\n",
    ")\n"
   ]
  },
  {
   "cell_type": "markdown",
   "id": "f19b2de4-09b6-4689-a82d-57a26f0459db",
   "metadata": {},
   "source": [
    "#### Relevance of the documents in each query"
   ]
  },
  {
   "cell_type": "code",
   "execution_count": 25,
   "id": "5a15a35a-8807-4557-9b8d-48d39cd8cb08",
   "metadata": {},
   "outputs": [
    {
     "data": {
      "application/vnd.jupyter.widget-view+json": {
       "model_id": "d44ceb7463714e6ebdec78f2e8d198c7",
       "version_major": 2,
       "version_minor": 0
      },
      "text/plain": [
       "run_evals |          | 0/8 (0.0%) | ⏳ 00:00<? | ?it/s"
      ]
     },
     "metadata": {},
     "output_type": "display_data"
    },
    {
     "name": "stderr",
     "output_type": "stream",
     "text": [
      "\n",
      "\n",
      "Sending Evaluations:   0%|                                                                                                                                                                     | 0/8 [00:00<?, ?it/s]\u001b[A\u001b[A\n",
      "\n",
      "Sending Evaluations: 100%|█████████████████████████████████████████████████████████████████████████████████████████████████████████████████████████████████████████████████████████████| 8/8 [00:00<00:00, 76.84it/s]\u001b[A\u001b[A\n"
     ]
    }
   ],
   "source": [
    "relevance_evaluator = RelevanceEvaluator(eval_model)\n",
    "\n",
    "relevance_eval_df = run_evals(\n",
    "    dataframe=retrieved_docs_df,\n",
    "    evaluators=[relevance_evaluator],\n",
    "    provide_explanation=True,\n",
    ")[0]\n",
    "px.log_evaluations(\n",
    "    DocumentEvaluations(eval_name=\"Relevance\", dataframe=relevance_eval_df)\n",
    ")\n"
   ]
  },
  {
   "cell_type": "markdown",
   "id": "995a2a65-2bc9-4d6e-bb35-c1c7be0e9a19",
   "metadata": {},
   "source": [
    "## References"
   ]
  },
  {
   "cell_type": "code",
   "execution_count": null,
   "id": "16b49b25-c859-4c38-ae03-3257c19923d3",
   "metadata": {},
   "outputs": [],
   "source": [
    "# https://github.com/Arize-ai/phoenix/blob/7be1ab8817c368834424a3a643b73191837370ea/tutorials/evals/evals_quickstart.ipynb#L132\n",
    "# https://github.com/Arize-ai/phoenix?tab=readme-ov-file#installation"
   ]
  }
 ],
 "metadata": {
  "kernelspec": {
   "display_name": "Python 3 (ipykernel)",
   "language": "python",
   "name": "python3"
  },
  "language_info": {
   "codemirror_mode": {
    "name": "ipython",
    "version": 3
   },
   "file_extension": ".py",
   "mimetype": "text/x-python",
   "name": "python",
   "nbconvert_exporter": "python",
   "pygments_lexer": "ipython3",
   "version": "3.11.7"
  }
 },
 "nbformat": 4,
 "nbformat_minor": 5
}
